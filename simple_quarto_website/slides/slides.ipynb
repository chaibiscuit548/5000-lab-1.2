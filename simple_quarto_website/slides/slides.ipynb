{
 "cells": [
  {
   "cell_type": "markdown",
   "id": "91ef95cb",
   "metadata": {},
   "source": [
    "---\n",
    "title: \"Reveal.js Presentation\"\n",
    "format:\n",
    "  revealjs:\n",
    "    theme: simple\n",
    "    slide-number: true\n",
    "bibliography: ../reference.bib\n",
    "---\n",
    "\n",
    "## Introduction\n",
    "\n",
    "Hello, my name is Bilal. This is a test Reveal.js presentation.\n",
    "\n",
    "This deck demonstrates a few slides with images, codes and citations.\n",
    "\n",
    "According to recent research [@dinov2018data]; Lorem ipsum dolor sit amet consectetur adipiscing elit. Dolor sit amet consectetur adipiscing elit quisque faucibus.\n",
    "\n",
    "## Images\n",
    "\n",
    "Here are the images:\n",
    "\n",
    "![First Image](../images/image1.jpg){width=400}\n",
    "![Second Image](../images/image2.jpeg){width=400}\n",
    "\n",
    "## Python Code w/ Plot\n",
    "\n",
    "The following slide showcases a plot. Code should fold if extends screen.\n",
    "\n",
    "```{python}\n",
    "#| code-fold: true\n",
    "import matplotlib.pyplot as plt\n",
    "import numpy as np\n",
    "\n",
    "x = np.linspace(0, 10, 100)\n",
    "y = np.sin(x)\n",
    "\n",
    "plt.plot(x, y, label=\"Sine Wave\")\n",
    "plt.title(\"Folded Example Plot\")\n",
    "plt.xlabel(\"X-axis\")\n",
    "plt.ylabel(\"Y-axis\")\n",
    "plt.legend()\n",
    "plt.show()\n",
    "```\n",
    "\n",
    "## References\n",
    "\n",
    "::: {.references}\n",
    ":::"
   ]
  },
  {
   "cell_type": "markdown",
   "id": "514d6a18",
   "metadata": {},
   "source": []
  }
 ],
 "metadata": {
  "language_info": {
   "name": "python"
  }
 },
 "nbformat": 4,
 "nbformat_minor": 5
}
